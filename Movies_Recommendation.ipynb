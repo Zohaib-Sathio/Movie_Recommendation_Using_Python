{
  "nbformat": 4,
  "nbformat_minor": 0,
  "metadata": {
    "colab": {
      "provenance": [],
      "authorship_tag": "ABX9TyNAr6l8yShsMvX/cFjAgthx",
      "include_colab_link": true
    },
    "kernelspec": {
      "name": "python3",
      "display_name": "Python 3"
    },
    "language_info": {
      "name": "python"
    }
  },
  "cells": [
    {
      "cell_type": "markdown",
      "metadata": {
        "id": "view-in-github",
        "colab_type": "text"
      },
      "source": [
        "<a href=\"https://colab.research.google.com/github/Zohaib-Sathio/Movie_Recommendation_Using_Python/blob/main/Movies_Recommendation.ipynb\" target=\"_parent\"><img src=\"https://colab.research.google.com/assets/colab-badge.svg\" alt=\"Open In Colab\"/></a>"
      ]
    },
    {
      "cell_type": "markdown",
      "source": [],
      "metadata": {
        "id": "pg5NgnrOSxSq"
      }
    },
    {
      "cell_type": "markdown",
      "source": [],
      "metadata": {
        "id": "mLSvAWQlSxMr"
      }
    },
    {
      "cell_type": "code",
      "execution_count": 61,
      "metadata": {
        "id": "cJ0eJl0jRLY7"
      },
      "outputs": [],
      "source": [
        "import pandas as pd\n",
        "import numpy as np"
      ]
    },
    {
      "cell_type": "code",
      "source": [
        "from sklearn.metrics.pairwise import cosine_similarity\n",
        "from sklearn.feature_extraction.text import CountVectorizer"
      ],
      "metadata": {
        "id": "zlLO9qBDSURW"
      },
      "execution_count": 62,
      "outputs": []
    },
    {
      "cell_type": "code",
      "source": [
        "# from google.colab import files\n",
        "# uploaded = files.upload()"
      ],
      "metadata": {
        "id": "duQPzVXRTJcg"
      },
      "execution_count": 63,
      "outputs": []
    },
    {
      "cell_type": "code",
      "source": [
        "movies = pd.read_csv('IMDB-Movie-Data.csv')\n",
        "movies.head(3)"
      ],
      "metadata": {
        "colab": {
          "base_uri": "https://localhost:8080/",
          "height": 317
        },
        "id": "AenV8aLtTvyH",
        "outputId": "debd90bd-b5e2-41f5-eab3-8e822e697e13"
      },
      "execution_count": 64,
      "outputs": [
        {
          "output_type": "execute_result",
          "data": {
            "text/plain": [
              "   Rank                    Title                     Genre  \\\n",
              "0     1  Guardians of the Galaxy   Action,Adventure,Sci-Fi   \n",
              "1     2               Prometheus  Adventure,Mystery,Sci-Fi   \n",
              "2     3                    Split           Horror,Thriller   \n",
              "\n",
              "                                         Description            Director  \\\n",
              "0  A group of intergalactic criminals are forced ...          James Gunn   \n",
              "1  Following clues to the origin of mankind, a te...        Ridley Scott   \n",
              "2  Three girls are kidnapped by a man with a diag...  M. Night Shyamalan   \n",
              "\n",
              "                                              Actors  Year  Runtime (Minutes)  \\\n",
              "0  Chris Pratt, Vin Diesel, Bradley Cooper, Zoe S...  2014                121   \n",
              "1  Noomi Rapace, Logan Marshall-Green, Michael Fa...  2012                124   \n",
              "2  James McAvoy, Anya Taylor-Joy, Haley Lu Richar...  2016                117   \n",
              "\n",
              "   Rating   Votes  Revenue (Millions)  Metascore  \n",
              "0     8.1  757074              333.13       76.0  \n",
              "1     7.0  485820              126.46       65.0  \n",
              "2     7.3  157606              138.12       62.0  "
            ],
            "text/html": [
              "\n",
              "  <div id=\"df-446c3551-23f3-482e-adad-4ce4f8dbf316\" class=\"colab-df-container\">\n",
              "    <div>\n",
              "<style scoped>\n",
              "    .dataframe tbody tr th:only-of-type {\n",
              "        vertical-align: middle;\n",
              "    }\n",
              "\n",
              "    .dataframe tbody tr th {\n",
              "        vertical-align: top;\n",
              "    }\n",
              "\n",
              "    .dataframe thead th {\n",
              "        text-align: right;\n",
              "    }\n",
              "</style>\n",
              "<table border=\"1\" class=\"dataframe\">\n",
              "  <thead>\n",
              "    <tr style=\"text-align: right;\">\n",
              "      <th></th>\n",
              "      <th>Rank</th>\n",
              "      <th>Title</th>\n",
              "      <th>Genre</th>\n",
              "      <th>Description</th>\n",
              "      <th>Director</th>\n",
              "      <th>Actors</th>\n",
              "      <th>Year</th>\n",
              "      <th>Runtime (Minutes)</th>\n",
              "      <th>Rating</th>\n",
              "      <th>Votes</th>\n",
              "      <th>Revenue (Millions)</th>\n",
              "      <th>Metascore</th>\n",
              "    </tr>\n",
              "  </thead>\n",
              "  <tbody>\n",
              "    <tr>\n",
              "      <th>0</th>\n",
              "      <td>1</td>\n",
              "      <td>Guardians of the Galaxy</td>\n",
              "      <td>Action,Adventure,Sci-Fi</td>\n",
              "      <td>A group of intergalactic criminals are forced ...</td>\n",
              "      <td>James Gunn</td>\n",
              "      <td>Chris Pratt, Vin Diesel, Bradley Cooper, Zoe S...</td>\n",
              "      <td>2014</td>\n",
              "      <td>121</td>\n",
              "      <td>8.1</td>\n",
              "      <td>757074</td>\n",
              "      <td>333.13</td>\n",
              "      <td>76.0</td>\n",
              "    </tr>\n",
              "    <tr>\n",
              "      <th>1</th>\n",
              "      <td>2</td>\n",
              "      <td>Prometheus</td>\n",
              "      <td>Adventure,Mystery,Sci-Fi</td>\n",
              "      <td>Following clues to the origin of mankind, a te...</td>\n",
              "      <td>Ridley Scott</td>\n",
              "      <td>Noomi Rapace, Logan Marshall-Green, Michael Fa...</td>\n",
              "      <td>2012</td>\n",
              "      <td>124</td>\n",
              "      <td>7.0</td>\n",
              "      <td>485820</td>\n",
              "      <td>126.46</td>\n",
              "      <td>65.0</td>\n",
              "    </tr>\n",
              "    <tr>\n",
              "      <th>2</th>\n",
              "      <td>3</td>\n",
              "      <td>Split</td>\n",
              "      <td>Horror,Thriller</td>\n",
              "      <td>Three girls are kidnapped by a man with a diag...</td>\n",
              "      <td>M. Night Shyamalan</td>\n",
              "      <td>James McAvoy, Anya Taylor-Joy, Haley Lu Richar...</td>\n",
              "      <td>2016</td>\n",
              "      <td>117</td>\n",
              "      <td>7.3</td>\n",
              "      <td>157606</td>\n",
              "      <td>138.12</td>\n",
              "      <td>62.0</td>\n",
              "    </tr>\n",
              "  </tbody>\n",
              "</table>\n",
              "</div>\n",
              "    <div class=\"colab-df-buttons\">\n",
              "\n",
              "  <div class=\"colab-df-container\">\n",
              "    <button class=\"colab-df-convert\" onclick=\"convertToInteractive('df-446c3551-23f3-482e-adad-4ce4f8dbf316')\"\n",
              "            title=\"Convert this dataframe to an interactive table.\"\n",
              "            style=\"display:none;\">\n",
              "\n",
              "  <svg xmlns=\"http://www.w3.org/2000/svg\" height=\"24px\" viewBox=\"0 -960 960 960\">\n",
              "    <path d=\"M120-120v-720h720v720H120Zm60-500h600v-160H180v160Zm220 220h160v-160H400v160Zm0 220h160v-160H400v160ZM180-400h160v-160H180v160Zm440 0h160v-160H620v160ZM180-180h160v-160H180v160Zm440 0h160v-160H620v160Z\"/>\n",
              "  </svg>\n",
              "    </button>\n",
              "\n",
              "  <style>\n",
              "    .colab-df-container {\n",
              "      display:flex;\n",
              "      gap: 12px;\n",
              "    }\n",
              "\n",
              "    .colab-df-convert {\n",
              "      background-color: #E8F0FE;\n",
              "      border: none;\n",
              "      border-radius: 50%;\n",
              "      cursor: pointer;\n",
              "      display: none;\n",
              "      fill: #1967D2;\n",
              "      height: 32px;\n",
              "      padding: 0 0 0 0;\n",
              "      width: 32px;\n",
              "    }\n",
              "\n",
              "    .colab-df-convert:hover {\n",
              "      background-color: #E2EBFA;\n",
              "      box-shadow: 0px 1px 2px rgba(60, 64, 67, 0.3), 0px 1px 3px 1px rgba(60, 64, 67, 0.15);\n",
              "      fill: #174EA6;\n",
              "    }\n",
              "\n",
              "    .colab-df-buttons div {\n",
              "      margin-bottom: 4px;\n",
              "    }\n",
              "\n",
              "    [theme=dark] .colab-df-convert {\n",
              "      background-color: #3B4455;\n",
              "      fill: #D2E3FC;\n",
              "    }\n",
              "\n",
              "    [theme=dark] .colab-df-convert:hover {\n",
              "      background-color: #434B5C;\n",
              "      box-shadow: 0px 1px 3px 1px rgba(0, 0, 0, 0.15);\n",
              "      filter: drop-shadow(0px 1px 2px rgba(0, 0, 0, 0.3));\n",
              "      fill: #FFFFFF;\n",
              "    }\n",
              "  </style>\n",
              "\n",
              "    <script>\n",
              "      const buttonEl =\n",
              "        document.querySelector('#df-446c3551-23f3-482e-adad-4ce4f8dbf316 button.colab-df-convert');\n",
              "      buttonEl.style.display =\n",
              "        google.colab.kernel.accessAllowed ? 'block' : 'none';\n",
              "\n",
              "      async function convertToInteractive(key) {\n",
              "        const element = document.querySelector('#df-446c3551-23f3-482e-adad-4ce4f8dbf316');\n",
              "        const dataTable =\n",
              "          await google.colab.kernel.invokeFunction('convertToInteractive',\n",
              "                                                    [key], {});\n",
              "        if (!dataTable) return;\n",
              "\n",
              "        const docLinkHtml = 'Like what you see? Visit the ' +\n",
              "          '<a target=\"_blank\" href=https://colab.research.google.com/notebooks/data_table.ipynb>data table notebook</a>'\n",
              "          + ' to learn more about interactive tables.';\n",
              "        element.innerHTML = '';\n",
              "        dataTable['output_type'] = 'display_data';\n",
              "        await google.colab.output.renderOutput(dataTable, element);\n",
              "        const docLink = document.createElement('div');\n",
              "        docLink.innerHTML = docLinkHtml;\n",
              "        element.appendChild(docLink);\n",
              "      }\n",
              "    </script>\n",
              "  </div>\n",
              "\n",
              "\n",
              "<div id=\"df-c8db6546-5f63-4abc-94b0-2c2fe183701d\">\n",
              "  <button class=\"colab-df-quickchart\" onclick=\"quickchart('df-c8db6546-5f63-4abc-94b0-2c2fe183701d')\"\n",
              "            title=\"Suggest charts.\"\n",
              "            style=\"display:none;\">\n",
              "\n",
              "<svg xmlns=\"http://www.w3.org/2000/svg\" height=\"24px\"viewBox=\"0 0 24 24\"\n",
              "     width=\"24px\">\n",
              "    <g>\n",
              "        <path d=\"M19 3H5c-1.1 0-2 .9-2 2v14c0 1.1.9 2 2 2h14c1.1 0 2-.9 2-2V5c0-1.1-.9-2-2-2zM9 17H7v-7h2v7zm4 0h-2V7h2v10zm4 0h-2v-4h2v4z\"/>\n",
              "    </g>\n",
              "</svg>\n",
              "  </button>\n",
              "\n",
              "<style>\n",
              "  .colab-df-quickchart {\n",
              "      --bg-color: #E8F0FE;\n",
              "      --fill-color: #1967D2;\n",
              "      --hover-bg-color: #E2EBFA;\n",
              "      --hover-fill-color: #174EA6;\n",
              "      --disabled-fill-color: #AAA;\n",
              "      --disabled-bg-color: #DDD;\n",
              "  }\n",
              "\n",
              "  [theme=dark] .colab-df-quickchart {\n",
              "      --bg-color: #3B4455;\n",
              "      --fill-color: #D2E3FC;\n",
              "      --hover-bg-color: #434B5C;\n",
              "      --hover-fill-color: #FFFFFF;\n",
              "      --disabled-bg-color: #3B4455;\n",
              "      --disabled-fill-color: #666;\n",
              "  }\n",
              "\n",
              "  .colab-df-quickchart {\n",
              "    background-color: var(--bg-color);\n",
              "    border: none;\n",
              "    border-radius: 50%;\n",
              "    cursor: pointer;\n",
              "    display: none;\n",
              "    fill: var(--fill-color);\n",
              "    height: 32px;\n",
              "    padding: 0;\n",
              "    width: 32px;\n",
              "  }\n",
              "\n",
              "  .colab-df-quickchart:hover {\n",
              "    background-color: var(--hover-bg-color);\n",
              "    box-shadow: 0 1px 2px rgba(60, 64, 67, 0.3), 0 1px 3px 1px rgba(60, 64, 67, 0.15);\n",
              "    fill: var(--button-hover-fill-color);\n",
              "  }\n",
              "\n",
              "  .colab-df-quickchart-complete:disabled,\n",
              "  .colab-df-quickchart-complete:disabled:hover {\n",
              "    background-color: var(--disabled-bg-color);\n",
              "    fill: var(--disabled-fill-color);\n",
              "    box-shadow: none;\n",
              "  }\n",
              "\n",
              "  .colab-df-spinner {\n",
              "    border: 2px solid var(--fill-color);\n",
              "    border-color: transparent;\n",
              "    border-bottom-color: var(--fill-color);\n",
              "    animation:\n",
              "      spin 1s steps(1) infinite;\n",
              "  }\n",
              "\n",
              "  @keyframes spin {\n",
              "    0% {\n",
              "      border-color: transparent;\n",
              "      border-bottom-color: var(--fill-color);\n",
              "      border-left-color: var(--fill-color);\n",
              "    }\n",
              "    20% {\n",
              "      border-color: transparent;\n",
              "      border-left-color: var(--fill-color);\n",
              "      border-top-color: var(--fill-color);\n",
              "    }\n",
              "    30% {\n",
              "      border-color: transparent;\n",
              "      border-left-color: var(--fill-color);\n",
              "      border-top-color: var(--fill-color);\n",
              "      border-right-color: var(--fill-color);\n",
              "    }\n",
              "    40% {\n",
              "      border-color: transparent;\n",
              "      border-right-color: var(--fill-color);\n",
              "      border-top-color: var(--fill-color);\n",
              "    }\n",
              "    60% {\n",
              "      border-color: transparent;\n",
              "      border-right-color: var(--fill-color);\n",
              "    }\n",
              "    80% {\n",
              "      border-color: transparent;\n",
              "      border-right-color: var(--fill-color);\n",
              "      border-bottom-color: var(--fill-color);\n",
              "    }\n",
              "    90% {\n",
              "      border-color: transparent;\n",
              "      border-bottom-color: var(--fill-color);\n",
              "    }\n",
              "  }\n",
              "</style>\n",
              "\n",
              "  <script>\n",
              "    async function quickchart(key) {\n",
              "      const quickchartButtonEl =\n",
              "        document.querySelector('#' + key + ' button');\n",
              "      quickchartButtonEl.disabled = true;  // To prevent multiple clicks.\n",
              "      quickchartButtonEl.classList.add('colab-df-spinner');\n",
              "      try {\n",
              "        const charts = await google.colab.kernel.invokeFunction(\n",
              "            'suggestCharts', [key], {});\n",
              "      } catch (error) {\n",
              "        console.error('Error during call to suggestCharts:', error);\n",
              "      }\n",
              "      quickchartButtonEl.classList.remove('colab-df-spinner');\n",
              "      quickchartButtonEl.classList.add('colab-df-quickchart-complete');\n",
              "    }\n",
              "    (() => {\n",
              "      let quickchartButtonEl =\n",
              "        document.querySelector('#df-c8db6546-5f63-4abc-94b0-2c2fe183701d button');\n",
              "      quickchartButtonEl.style.display =\n",
              "        google.colab.kernel.accessAllowed ? 'block' : 'none';\n",
              "    })();\n",
              "  </script>\n",
              "</div>\n",
              "    </div>\n",
              "  </div>\n"
            ]
          },
          "metadata": {},
          "execution_count": 64
        }
      ]
    },
    {
      "cell_type": "code",
      "source": [
        "columns = ['Actors', 'Director', 'Genre', 'Title']"
      ],
      "metadata": {
        "id": "ii21XgnwUF09"
      },
      "execution_count": 81,
      "outputs": []
    },
    {
      "cell_type": "code",
      "source": [
        "movies[columns].isnull().values.any()"
      ],
      "metadata": {
        "colab": {
          "base_uri": "https://localhost:8080/"
        },
        "id": "4_V6s-y7Ud7u",
        "outputId": "c62756be-d9c9-4b9b-9e58-ded1cb9ca764"
      },
      "execution_count": 82,
      "outputs": [
        {
          "output_type": "execute_result",
          "data": {
            "text/plain": [
              "False"
            ]
          },
          "metadata": {},
          "execution_count": 82
        }
      ]
    },
    {
      "cell_type": "code",
      "source": [
        "movies[columns].head(5)"
      ],
      "metadata": {
        "colab": {
          "base_uri": "https://localhost:8080/",
          "height": 206
        },
        "id": "2jNY1ZwMUTO7",
        "outputId": "0e0febe9-a58f-40eb-c400-67b4f3b0e44c"
      },
      "execution_count": 83,
      "outputs": [
        {
          "output_type": "execute_result",
          "data": {
            "text/plain": [
              "                                              Actors              Director  \\\n",
              "0  Chris Pratt, Vin Diesel, Bradley Cooper, Zoe S...            James Gunn   \n",
              "1  Noomi Rapace, Logan Marshall-Green, Michael Fa...          Ridley Scott   \n",
              "2  James McAvoy, Anya Taylor-Joy, Haley Lu Richar...    M. Night Shyamalan   \n",
              "3  Matthew McConaughey,Reese Witherspoon, Seth Ma...  Christophe Lourdelet   \n",
              "4  Will Smith, Jared Leto, Margot Robbie, Viola D...            David Ayer   \n",
              "\n",
              "                      Genre                    Title  \n",
              "0   Action,Adventure,Sci-Fi  Guardians of the Galaxy  \n",
              "1  Adventure,Mystery,Sci-Fi               Prometheus  \n",
              "2           Horror,Thriller                    Split  \n",
              "3   Animation,Comedy,Family                     Sing  \n",
              "4  Action,Adventure,Fantasy            Suicide Squad  "
            ],
            "text/html": [
              "\n",
              "  <div id=\"df-80974e40-7898-4dad-9c62-b03bac23e6ab\" class=\"colab-df-container\">\n",
              "    <div>\n",
              "<style scoped>\n",
              "    .dataframe tbody tr th:only-of-type {\n",
              "        vertical-align: middle;\n",
              "    }\n",
              "\n",
              "    .dataframe tbody tr th {\n",
              "        vertical-align: top;\n",
              "    }\n",
              "\n",
              "    .dataframe thead th {\n",
              "        text-align: right;\n",
              "    }\n",
              "</style>\n",
              "<table border=\"1\" class=\"dataframe\">\n",
              "  <thead>\n",
              "    <tr style=\"text-align: right;\">\n",
              "      <th></th>\n",
              "      <th>Actors</th>\n",
              "      <th>Director</th>\n",
              "      <th>Genre</th>\n",
              "      <th>Title</th>\n",
              "    </tr>\n",
              "  </thead>\n",
              "  <tbody>\n",
              "    <tr>\n",
              "      <th>0</th>\n",
              "      <td>Chris Pratt, Vin Diesel, Bradley Cooper, Zoe S...</td>\n",
              "      <td>James Gunn</td>\n",
              "      <td>Action,Adventure,Sci-Fi</td>\n",
              "      <td>Guardians of the Galaxy</td>\n",
              "    </tr>\n",
              "    <tr>\n",
              "      <th>1</th>\n",
              "      <td>Noomi Rapace, Logan Marshall-Green, Michael Fa...</td>\n",
              "      <td>Ridley Scott</td>\n",
              "      <td>Adventure,Mystery,Sci-Fi</td>\n",
              "      <td>Prometheus</td>\n",
              "    </tr>\n",
              "    <tr>\n",
              "      <th>2</th>\n",
              "      <td>James McAvoy, Anya Taylor-Joy, Haley Lu Richar...</td>\n",
              "      <td>M. Night Shyamalan</td>\n",
              "      <td>Horror,Thriller</td>\n",
              "      <td>Split</td>\n",
              "    </tr>\n",
              "    <tr>\n",
              "      <th>3</th>\n",
              "      <td>Matthew McConaughey,Reese Witherspoon, Seth Ma...</td>\n",
              "      <td>Christophe Lourdelet</td>\n",
              "      <td>Animation,Comedy,Family</td>\n",
              "      <td>Sing</td>\n",
              "    </tr>\n",
              "    <tr>\n",
              "      <th>4</th>\n",
              "      <td>Will Smith, Jared Leto, Margot Robbie, Viola D...</td>\n",
              "      <td>David Ayer</td>\n",
              "      <td>Action,Adventure,Fantasy</td>\n",
              "      <td>Suicide Squad</td>\n",
              "    </tr>\n",
              "  </tbody>\n",
              "</table>\n",
              "</div>\n",
              "    <div class=\"colab-df-buttons\">\n",
              "\n",
              "  <div class=\"colab-df-container\">\n",
              "    <button class=\"colab-df-convert\" onclick=\"convertToInteractive('df-80974e40-7898-4dad-9c62-b03bac23e6ab')\"\n",
              "            title=\"Convert this dataframe to an interactive table.\"\n",
              "            style=\"display:none;\">\n",
              "\n",
              "  <svg xmlns=\"http://www.w3.org/2000/svg\" height=\"24px\" viewBox=\"0 -960 960 960\">\n",
              "    <path d=\"M120-120v-720h720v720H120Zm60-500h600v-160H180v160Zm220 220h160v-160H400v160Zm0 220h160v-160H400v160ZM180-400h160v-160H180v160Zm440 0h160v-160H620v160ZM180-180h160v-160H180v160Zm440 0h160v-160H620v160Z\"/>\n",
              "  </svg>\n",
              "    </button>\n",
              "\n",
              "  <style>\n",
              "    .colab-df-container {\n",
              "      display:flex;\n",
              "      gap: 12px;\n",
              "    }\n",
              "\n",
              "    .colab-df-convert {\n",
              "      background-color: #E8F0FE;\n",
              "      border: none;\n",
              "      border-radius: 50%;\n",
              "      cursor: pointer;\n",
              "      display: none;\n",
              "      fill: #1967D2;\n",
              "      height: 32px;\n",
              "      padding: 0 0 0 0;\n",
              "      width: 32px;\n",
              "    }\n",
              "\n",
              "    .colab-df-convert:hover {\n",
              "      background-color: #E2EBFA;\n",
              "      box-shadow: 0px 1px 2px rgba(60, 64, 67, 0.3), 0px 1px 3px 1px rgba(60, 64, 67, 0.15);\n",
              "      fill: #174EA6;\n",
              "    }\n",
              "\n",
              "    .colab-df-buttons div {\n",
              "      margin-bottom: 4px;\n",
              "    }\n",
              "\n",
              "    [theme=dark] .colab-df-convert {\n",
              "      background-color: #3B4455;\n",
              "      fill: #D2E3FC;\n",
              "    }\n",
              "\n",
              "    [theme=dark] .colab-df-convert:hover {\n",
              "      background-color: #434B5C;\n",
              "      box-shadow: 0px 1px 3px 1px rgba(0, 0, 0, 0.15);\n",
              "      filter: drop-shadow(0px 1px 2px rgba(0, 0, 0, 0.3));\n",
              "      fill: #FFFFFF;\n",
              "    }\n",
              "  </style>\n",
              "\n",
              "    <script>\n",
              "      const buttonEl =\n",
              "        document.querySelector('#df-80974e40-7898-4dad-9c62-b03bac23e6ab button.colab-df-convert');\n",
              "      buttonEl.style.display =\n",
              "        google.colab.kernel.accessAllowed ? 'block' : 'none';\n",
              "\n",
              "      async function convertToInteractive(key) {\n",
              "        const element = document.querySelector('#df-80974e40-7898-4dad-9c62-b03bac23e6ab');\n",
              "        const dataTable =\n",
              "          await google.colab.kernel.invokeFunction('convertToInteractive',\n",
              "                                                    [key], {});\n",
              "        if (!dataTable) return;\n",
              "\n",
              "        const docLinkHtml = 'Like what you see? Visit the ' +\n",
              "          '<a target=\"_blank\" href=https://colab.research.google.com/notebooks/data_table.ipynb>data table notebook</a>'\n",
              "          + ' to learn more about interactive tables.';\n",
              "        element.innerHTML = '';\n",
              "        dataTable['output_type'] = 'display_data';\n",
              "        await google.colab.output.renderOutput(dataTable, element);\n",
              "        const docLink = document.createElement('div');\n",
              "        docLink.innerHTML = docLinkHtml;\n",
              "        element.appendChild(docLink);\n",
              "      }\n",
              "    </script>\n",
              "  </div>\n",
              "\n",
              "\n",
              "<div id=\"df-f9dded25-94af-410e-b119-023e78465126\">\n",
              "  <button class=\"colab-df-quickchart\" onclick=\"quickchart('df-f9dded25-94af-410e-b119-023e78465126')\"\n",
              "            title=\"Suggest charts.\"\n",
              "            style=\"display:none;\">\n",
              "\n",
              "<svg xmlns=\"http://www.w3.org/2000/svg\" height=\"24px\"viewBox=\"0 0 24 24\"\n",
              "     width=\"24px\">\n",
              "    <g>\n",
              "        <path d=\"M19 3H5c-1.1 0-2 .9-2 2v14c0 1.1.9 2 2 2h14c1.1 0 2-.9 2-2V5c0-1.1-.9-2-2-2zM9 17H7v-7h2v7zm4 0h-2V7h2v10zm4 0h-2v-4h2v4z\"/>\n",
              "    </g>\n",
              "</svg>\n",
              "  </button>\n",
              "\n",
              "<style>\n",
              "  .colab-df-quickchart {\n",
              "      --bg-color: #E8F0FE;\n",
              "      --fill-color: #1967D2;\n",
              "      --hover-bg-color: #E2EBFA;\n",
              "      --hover-fill-color: #174EA6;\n",
              "      --disabled-fill-color: #AAA;\n",
              "      --disabled-bg-color: #DDD;\n",
              "  }\n",
              "\n",
              "  [theme=dark] .colab-df-quickchart {\n",
              "      --bg-color: #3B4455;\n",
              "      --fill-color: #D2E3FC;\n",
              "      --hover-bg-color: #434B5C;\n",
              "      --hover-fill-color: #FFFFFF;\n",
              "      --disabled-bg-color: #3B4455;\n",
              "      --disabled-fill-color: #666;\n",
              "  }\n",
              "\n",
              "  .colab-df-quickchart {\n",
              "    background-color: var(--bg-color);\n",
              "    border: none;\n",
              "    border-radius: 50%;\n",
              "    cursor: pointer;\n",
              "    display: none;\n",
              "    fill: var(--fill-color);\n",
              "    height: 32px;\n",
              "    padding: 0;\n",
              "    width: 32px;\n",
              "  }\n",
              "\n",
              "  .colab-df-quickchart:hover {\n",
              "    background-color: var(--hover-bg-color);\n",
              "    box-shadow: 0 1px 2px rgba(60, 64, 67, 0.3), 0 1px 3px 1px rgba(60, 64, 67, 0.15);\n",
              "    fill: var(--button-hover-fill-color);\n",
              "  }\n",
              "\n",
              "  .colab-df-quickchart-complete:disabled,\n",
              "  .colab-df-quickchart-complete:disabled:hover {\n",
              "    background-color: var(--disabled-bg-color);\n",
              "    fill: var(--disabled-fill-color);\n",
              "    box-shadow: none;\n",
              "  }\n",
              "\n",
              "  .colab-df-spinner {\n",
              "    border: 2px solid var(--fill-color);\n",
              "    border-color: transparent;\n",
              "    border-bottom-color: var(--fill-color);\n",
              "    animation:\n",
              "      spin 1s steps(1) infinite;\n",
              "  }\n",
              "\n",
              "  @keyframes spin {\n",
              "    0% {\n",
              "      border-color: transparent;\n",
              "      border-bottom-color: var(--fill-color);\n",
              "      border-left-color: var(--fill-color);\n",
              "    }\n",
              "    20% {\n",
              "      border-color: transparent;\n",
              "      border-left-color: var(--fill-color);\n",
              "      border-top-color: var(--fill-color);\n",
              "    }\n",
              "    30% {\n",
              "      border-color: transparent;\n",
              "      border-left-color: var(--fill-color);\n",
              "      border-top-color: var(--fill-color);\n",
              "      border-right-color: var(--fill-color);\n",
              "    }\n",
              "    40% {\n",
              "      border-color: transparent;\n",
              "      border-right-color: var(--fill-color);\n",
              "      border-top-color: var(--fill-color);\n",
              "    }\n",
              "    60% {\n",
              "      border-color: transparent;\n",
              "      border-right-color: var(--fill-color);\n",
              "    }\n",
              "    80% {\n",
              "      border-color: transparent;\n",
              "      border-right-color: var(--fill-color);\n",
              "      border-bottom-color: var(--fill-color);\n",
              "    }\n",
              "    90% {\n",
              "      border-color: transparent;\n",
              "      border-bottom-color: var(--fill-color);\n",
              "    }\n",
              "  }\n",
              "</style>\n",
              "\n",
              "  <script>\n",
              "    async function quickchart(key) {\n",
              "      const quickchartButtonEl =\n",
              "        document.querySelector('#' + key + ' button');\n",
              "      quickchartButtonEl.disabled = true;  // To prevent multiple clicks.\n",
              "      quickchartButtonEl.classList.add('colab-df-spinner');\n",
              "      try {\n",
              "        const charts = await google.colab.kernel.invokeFunction(\n",
              "            'suggestCharts', [key], {});\n",
              "      } catch (error) {\n",
              "        console.error('Error during call to suggestCharts:', error);\n",
              "      }\n",
              "      quickchartButtonEl.classList.remove('colab-df-spinner');\n",
              "      quickchartButtonEl.classList.add('colab-df-quickchart-complete');\n",
              "    }\n",
              "    (() => {\n",
              "      let quickchartButtonEl =\n",
              "        document.querySelector('#df-f9dded25-94af-410e-b119-023e78465126 button');\n",
              "      quickchartButtonEl.style.display =\n",
              "        google.colab.kernel.accessAllowed ? 'block' : 'none';\n",
              "    })();\n",
              "  </script>\n",
              "</div>\n",
              "    </div>\n",
              "  </div>\n"
            ]
          },
          "metadata": {},
          "execution_count": 83
        }
      ]
    },
    {
      "cell_type": "code",
      "source": [
        "def get_important_features(data):\n",
        "  important_features = []\n",
        "  for i in range(0, data.shape[0]):\n",
        "    important_features.append(movies['Actors'][i] + \" \" + movies['Director'][i] + \" \" + movies['Genre'][i] + \" \" + movies['Title'][i])\n",
        "  return important_features"
      ],
      "metadata": {
        "id": "S5h0FuL9UVVs"
      },
      "execution_count": 84,
      "outputs": []
    },
    {
      "cell_type": "code",
      "source": [
        "movies['important_features'] = get_important_features(movies)"
      ],
      "metadata": {
        "id": "idFbyFNKVKsr"
      },
      "execution_count": 85,
      "outputs": []
    },
    {
      "cell_type": "code",
      "source": [
        "movies['important_features'][0]"
      ],
      "metadata": {
        "colab": {
          "base_uri": "https://localhost:8080/",
          "height": 35
        },
        "id": "lrGSgrFpVWzX",
        "outputId": "53fa3c3f-0ad3-449d-b88b-bc3cb9e9eb99"
      },
      "execution_count": 86,
      "outputs": [
        {
          "output_type": "execute_result",
          "data": {
            "text/plain": [
              "'Chris Pratt, Vin Diesel, Bradley Cooper, Zoe Saldana James Gunn Action,Adventure,Sci-Fi Guardians of the Galaxy'"
            ],
            "application/vnd.google.colaboratory.intrinsic+json": {
              "type": "string"
            }
          },
          "metadata": {},
          "execution_count": 86
        }
      ]
    },
    {
      "cell_type": "code",
      "source": [
        "cm = CountVectorizer().fit_transform(movies['important_features'])"
      ],
      "metadata": {
        "id": "SIHfm5xsVYtC"
      },
      "execution_count": 87,
      "outputs": []
    },
    {
      "cell_type": "code",
      "source": [
        "cs = cosine_similarity(cm)"
      ],
      "metadata": {
        "id": "EXpKUcqzVqoa"
      },
      "execution_count": 88,
      "outputs": []
    },
    {
      "cell_type": "code",
      "source": [
        "cs"
      ],
      "metadata": {
        "colab": {
          "base_uri": "https://localhost:8080/"
        },
        "id": "kY7CYzWDVxv7",
        "outputId": "2e03d65a-b9da-4177-c70a-a994187c103b"
      },
      "execution_count": 89,
      "outputs": [
        {
          "output_type": "execute_result",
          "data": {
            "text/plain": [
              "array([[1.        , 0.1767767 , 0.06085806, ..., 0.0571662 , 0.06537205,\n",
              "        0.        ],\n",
              "       [0.1767767 , 1.        , 0.        , ..., 0.        , 0.06933752,\n",
              "        0.        ],\n",
              "       [0.06085806, 0.        , 1.        , ..., 0.        , 0.        ,\n",
              "        0.        ],\n",
              "       ...,\n",
              "       [0.0571662 , 0.        , 0.        , ..., 1.        , 0.06726728,\n",
              "        0.        ],\n",
              "       [0.06537205, 0.06933752, 0.        , ..., 0.06726728, 1.        ,\n",
              "        0.07161149],\n",
              "       [0.        , 0.        , 0.        , ..., 0.        , 0.07161149,\n",
              "        1.        ]])"
            ]
          },
          "metadata": {},
          "execution_count": 89
        }
      ]
    },
    {
      "cell_type": "code",
      "source": [
        "cs.shape"
      ],
      "metadata": {
        "colab": {
          "base_uri": "https://localhost:8080/"
        },
        "id": "pM-j8zivVyxz",
        "outputId": "01eb94e4-87a5-4c00-a252-08c0fd4146ab"
      },
      "execution_count": 90,
      "outputs": [
        {
          "output_type": "execute_result",
          "data": {
            "text/plain": [
              "(1000, 1000)"
            ]
          },
          "metadata": {},
          "execution_count": 90
        }
      ]
    },
    {
      "cell_type": "code",
      "source": [
        "movies[movies.Title == \"Sing\"]"
      ],
      "metadata": {
        "colab": {
          "base_uri": "https://localhost:8080/",
          "height": 187
        },
        "id": "RoIXqNECY4Lp",
        "outputId": "5da264d9-eb62-44ec-c64f-e0e52b90bc6a"
      },
      "execution_count": 111,
      "outputs": [
        {
          "output_type": "execute_result",
          "data": {
            "text/plain": [
              "   Rank Title                    Genre  \\\n",
              "3     4  Sing  Animation,Comedy,Family   \n",
              "\n",
              "                                         Description              Director  \\\n",
              "3  In a city of humanoid animals, a hustling thea...  Christophe Lourdelet   \n",
              "\n",
              "                                              Actors  Year  Runtime (Minutes)  \\\n",
              "3  Matthew McConaughey,Reese Witherspoon, Seth Ma...  2016                108   \n",
              "\n",
              "   Rating  Votes  Revenue (Millions)  Metascore  \\\n",
              "3     7.2  60545              270.32       59.0   \n",
              "\n",
              "                                  important_features  \n",
              "3  Matthew McConaughey,Reese Witherspoon, Seth Ma...  "
            ],
            "text/html": [
              "\n",
              "  <div id=\"df-054f08e2-2d05-4f6d-9307-f26aa7b482ff\" class=\"colab-df-container\">\n",
              "    <div>\n",
              "<style scoped>\n",
              "    .dataframe tbody tr th:only-of-type {\n",
              "        vertical-align: middle;\n",
              "    }\n",
              "\n",
              "    .dataframe tbody tr th {\n",
              "        vertical-align: top;\n",
              "    }\n",
              "\n",
              "    .dataframe thead th {\n",
              "        text-align: right;\n",
              "    }\n",
              "</style>\n",
              "<table border=\"1\" class=\"dataframe\">\n",
              "  <thead>\n",
              "    <tr style=\"text-align: right;\">\n",
              "      <th></th>\n",
              "      <th>Rank</th>\n",
              "      <th>Title</th>\n",
              "      <th>Genre</th>\n",
              "      <th>Description</th>\n",
              "      <th>Director</th>\n",
              "      <th>Actors</th>\n",
              "      <th>Year</th>\n",
              "      <th>Runtime (Minutes)</th>\n",
              "      <th>Rating</th>\n",
              "      <th>Votes</th>\n",
              "      <th>Revenue (Millions)</th>\n",
              "      <th>Metascore</th>\n",
              "      <th>important_features</th>\n",
              "    </tr>\n",
              "  </thead>\n",
              "  <tbody>\n",
              "    <tr>\n",
              "      <th>3</th>\n",
              "      <td>4</td>\n",
              "      <td>Sing</td>\n",
              "      <td>Animation,Comedy,Family</td>\n",
              "      <td>In a city of humanoid animals, a hustling thea...</td>\n",
              "      <td>Christophe Lourdelet</td>\n",
              "      <td>Matthew McConaughey,Reese Witherspoon, Seth Ma...</td>\n",
              "      <td>2016</td>\n",
              "      <td>108</td>\n",
              "      <td>7.2</td>\n",
              "      <td>60545</td>\n",
              "      <td>270.32</td>\n",
              "      <td>59.0</td>\n",
              "      <td>Matthew McConaughey,Reese Witherspoon, Seth Ma...</td>\n",
              "    </tr>\n",
              "  </tbody>\n",
              "</table>\n",
              "</div>\n",
              "    <div class=\"colab-df-buttons\">\n",
              "\n",
              "  <div class=\"colab-df-container\">\n",
              "    <button class=\"colab-df-convert\" onclick=\"convertToInteractive('df-054f08e2-2d05-4f6d-9307-f26aa7b482ff')\"\n",
              "            title=\"Convert this dataframe to an interactive table.\"\n",
              "            style=\"display:none;\">\n",
              "\n",
              "  <svg xmlns=\"http://www.w3.org/2000/svg\" height=\"24px\" viewBox=\"0 -960 960 960\">\n",
              "    <path d=\"M120-120v-720h720v720H120Zm60-500h600v-160H180v160Zm220 220h160v-160H400v160Zm0 220h160v-160H400v160ZM180-400h160v-160H180v160Zm440 0h160v-160H620v160ZM180-180h160v-160H180v160Zm440 0h160v-160H620v160Z\"/>\n",
              "  </svg>\n",
              "    </button>\n",
              "\n",
              "  <style>\n",
              "    .colab-df-container {\n",
              "      display:flex;\n",
              "      gap: 12px;\n",
              "    }\n",
              "\n",
              "    .colab-df-convert {\n",
              "      background-color: #E8F0FE;\n",
              "      border: none;\n",
              "      border-radius: 50%;\n",
              "      cursor: pointer;\n",
              "      display: none;\n",
              "      fill: #1967D2;\n",
              "      height: 32px;\n",
              "      padding: 0 0 0 0;\n",
              "      width: 32px;\n",
              "    }\n",
              "\n",
              "    .colab-df-convert:hover {\n",
              "      background-color: #E2EBFA;\n",
              "      box-shadow: 0px 1px 2px rgba(60, 64, 67, 0.3), 0px 1px 3px 1px rgba(60, 64, 67, 0.15);\n",
              "      fill: #174EA6;\n",
              "    }\n",
              "\n",
              "    .colab-df-buttons div {\n",
              "      margin-bottom: 4px;\n",
              "    }\n",
              "\n",
              "    [theme=dark] .colab-df-convert {\n",
              "      background-color: #3B4455;\n",
              "      fill: #D2E3FC;\n",
              "    }\n",
              "\n",
              "    [theme=dark] .colab-df-convert:hover {\n",
              "      background-color: #434B5C;\n",
              "      box-shadow: 0px 1px 3px 1px rgba(0, 0, 0, 0.15);\n",
              "      filter: drop-shadow(0px 1px 2px rgba(0, 0, 0, 0.3));\n",
              "      fill: #FFFFFF;\n",
              "    }\n",
              "  </style>\n",
              "\n",
              "    <script>\n",
              "      const buttonEl =\n",
              "        document.querySelector('#df-054f08e2-2d05-4f6d-9307-f26aa7b482ff button.colab-df-convert');\n",
              "      buttonEl.style.display =\n",
              "        google.colab.kernel.accessAllowed ? 'block' : 'none';\n",
              "\n",
              "      async function convertToInteractive(key) {\n",
              "        const element = document.querySelector('#df-054f08e2-2d05-4f6d-9307-f26aa7b482ff');\n",
              "        const dataTable =\n",
              "          await google.colab.kernel.invokeFunction('convertToInteractive',\n",
              "                                                    [key], {});\n",
              "        if (!dataTable) return;\n",
              "\n",
              "        const docLinkHtml = 'Like what you see? Visit the ' +\n",
              "          '<a target=\"_blank\" href=https://colab.research.google.com/notebooks/data_table.ipynb>data table notebook</a>'\n",
              "          + ' to learn more about interactive tables.';\n",
              "        element.innerHTML = '';\n",
              "        dataTable['output_type'] = 'display_data';\n",
              "        await google.colab.output.renderOutput(dataTable, element);\n",
              "        const docLink = document.createElement('div');\n",
              "        docLink.innerHTML = docLinkHtml;\n",
              "        element.appendChild(docLink);\n",
              "      }\n",
              "    </script>\n",
              "  </div>\n",
              "\n",
              "    </div>\n",
              "  </div>\n"
            ]
          },
          "metadata": {},
          "execution_count": 111
        }
      ]
    },
    {
      "cell_type": "code",
      "source": [
        "title = 'Sing'\n",
        "\n",
        "movie_id = movies[movies.Title == title]['Rank'].values[0]"
      ],
      "metadata": {
        "id": "iSe0CeAHV0JN"
      },
      "execution_count": 113,
      "outputs": []
    },
    {
      "cell_type": "code",
      "source": [
        "scores = list(enumerate(cs[movie_id]))"
      ],
      "metadata": {
        "id": "-6q3wro2WOTO"
      },
      "execution_count": 106,
      "outputs": []
    },
    {
      "cell_type": "code",
      "source": [
        "sorted_scores = sorted(scores, key = lambda x : x[1], reverse = True)"
      ],
      "metadata": {
        "id": "kjPI3rUuWnuQ"
      },
      "execution_count": 107,
      "outputs": []
    },
    {
      "cell_type": "code",
      "source": [
        "sorted_scores = sorted_scores[1:]"
      ],
      "metadata": {
        "id": "aTcbgPBtWoQ6"
      },
      "execution_count": 108,
      "outputs": []
    },
    {
      "cell_type": "code",
      "source": [
        "print(sorted_scores)"
      ],
      "metadata": {
        "colab": {
          "base_uri": "https://localhost:8080/"
        },
        "id": "-A1tBF7NW5D9",
        "outputId": "8594ce2f-4fa4-4679-b0b8-dfc9ff465492"
      },
      "execution_count": 109,
      "outputs": [
        {
          "output_type": "stream",
          "name": "stdout",
          "text": [
            "[(948, 0.36514837167011077), (488, 0.2760262237369417), (496, 0.25048971643405976), (384, 0.24343224778007383), (73, 0.20701966780270625), (87, 0.20701966780270625), (91, 0.20701966780270625), (101, 0.20701966780270625), (113, 0.20701966780270625), (240, 0.20701966780270625), (789, 0.20701966780270625), (896, 0.20701966780270625), (355, 0.19999999999999996), (610, 0.19999999999999996), (5, 0.19364916731037082), (51, 0.19364916731037082), (294, 0.19364916731037082), (343, 0.19364916731037082), (537, 0.19364916731037082), (758, 0.19364916731037082), (901, 0.19364916731037082), (985, 0.19364916731037082), (37, 0.1878672873255448), (107, 0.1878672873255448), (214, 0.1878672873255448), (215, 0.1878672873255448), (388, 0.1878672873255448), (504, 0.1878672873255448), (575, 0.1878672873255448), (626, 0.1878672873255448), (657, 0.1878672873255448), (879, 0.1878672873255448), (941, 0.1878672873255448), (325, 0.18257418583505536), (640, 0.18257418583505536), (827, 0.18257418583505536), (871, 0.18257418583505536), (990, 0.18257418583505536), (50, 0.17770466332772766), (465, 0.17770466332772766), (609, 0.17770466332772766), (10, 0.1732050807568877), (45, 0.1732050807568877), (75, 0.1732050807568877), (78, 0.1732050807568877), (114, 0.1732050807568877), (418, 0.1732050807568877), (473, 0.1732050807568877), (264, 0.1690308509457033), (800, 0.1690308509457033), (739, 0.16514456476895406), (806, 0.16514456476895406), (314, 0.16151457061744964), (767, 0.15811388300841897), (284, 0.14322297480788657), (964, 0.14322297480788657), (26, 0.13801311186847084), (47, 0.13801311186847084), (71, 0.13801311186847084), (79, 0.13801311186847084), (90, 0.13801311186847084), (92, 0.13801311186847084), (149, 0.13801311186847084), (169, 0.13801311186847084), (175, 0.13801311186847084), (204, 0.13801311186847084), (228, 0.13801311186847084), (256, 0.13801311186847084), (270, 0.13801311186847084), (275, 0.13801311186847084), (285, 0.13801311186847084), (288, 0.13801311186847084), (329, 0.13801311186847084), (346, 0.13801311186847084), (373, 0.13801311186847084), (400, 0.13801311186847084), (448, 0.13801311186847084), (565, 0.13801311186847084), (587, 0.13801311186847084), (599, 0.13801311186847084), (684, 0.13801311186847084), (718, 0.13801311186847084), (802, 0.13801311186847084), (856, 0.13801311186847084), (920, 0.13801311186847084), (945, 0.13801311186847084), (956, 0.13801311186847084), (29, 0.1333333333333333), (33, 0.1333333333333333), (140, 0.1333333333333333), (150, 0.1333333333333333), (164, 0.1333333333333333), (179, 0.1333333333333333), (210, 0.1333333333333333), (212, 0.1333333333333333), (217, 0.1333333333333333), (227, 0.1333333333333333), (232, 0.1333333333333333), (239, 0.1333333333333333), (344, 0.1333333333333333), (369, 0.1333333333333333), (379, 0.1333333333333333), (385, 0.1333333333333333), (468, 0.1333333333333333), (472, 0.1333333333333333), (484, 0.1333333333333333), (485, 0.1333333333333333), (557, 0.1333333333333333), (577, 0.1333333333333333), (597, 0.1333333333333333), (600, 0.1333333333333333), (621, 0.1333333333333333), (625, 0.1333333333333333), (649, 0.1333333333333333), (687, 0.1333333333333333), (693, 0.1333333333333333), (694, 0.1333333333333333), (728, 0.1333333333333333), (759, 0.1333333333333333), (787, 0.1333333333333333), (810, 0.1333333333333333), (833, 0.1333333333333333), (880, 0.1333333333333333), (944, 0.1333333333333333), (999, 0.1333333333333333), (12, 0.12909944487358055), (32, 0.12909944487358055), (38, 0.12909944487358055), (80, 0.12909944487358055), (104, 0.12909944487358055), (129, 0.12909944487358055), (130, 0.12909944487358055), (168, 0.12909944487358055), (205, 0.12909944487358055), (220, 0.12909944487358055), (281, 0.12909944487358055), (287, 0.12909944487358055), (300, 0.12909944487358055), (332, 0.12909944487358055), (345, 0.12909944487358055), (368, 0.12909944487358055), (387, 0.12909944487358055), (389, 0.12909944487358055), (414, 0.12909944487358055), (432, 0.12909944487358055), (454, 0.12909944487358055), (469, 0.12909944487358055), (523, 0.12909944487358055), (528, 0.12909944487358055), (529, 0.12909944487358055), (552, 0.12909944487358055), (581, 0.12909944487358055), (585, 0.12909944487358055), (603, 0.12909944487358055), (660, 0.12909944487358055), (673, 0.12909944487358055), (724, 0.12909944487358055), (770, 0.12909944487358055), (820, 0.12909944487358055), (854, 0.12909944487358055), (869, 0.12909944487358055), (924, 0.12909944487358055), (957, 0.12909944487358055), (969, 0.12909944487358055), (993, 0.12909944487358055), (8, 0.12524485821702988), (24, 0.12524485821702988), (48, 0.12524485821702988), (65, 0.12524485821702988), (85, 0.12524485821702988), (166, 0.12524485821702988), (200, 0.12524485821702988), (203, 0.12524485821702988), (233, 0.12524485821702988), (268, 0.12524485821702988), (271, 0.12524485821702988), (362, 0.12524485821702988), (396, 0.12524485821702988), (433, 0.12524485821702988), (450, 0.12524485821702988), (491, 0.12524485821702988), (495, 0.12524485821702988), (516, 0.12524485821702988), (547, 0.12524485821702988), (698, 0.12524485821702988), (878, 0.12524485821702988), (916, 0.12524485821702988), (919, 0.12524485821702988), (0, 0.12171612389003691), (67, 0.12171612389003691), (82, 0.12171612389003691), (126, 0.12171612389003691), (163, 0.12171612389003691), (234, 0.12171612389003691), (243, 0.12171612389003691), (253, 0.12171612389003691), (279, 0.12171612389003691), (316, 0.12171612389003691), (371, 0.12171612389003691), (423, 0.12171612389003691), (440, 0.12171612389003691), (564, 0.12171612389003691), (821, 0.12171612389003691), (903, 0.12171612389003691), (35, 0.11846977555181845), (60, 0.11846977555181845), (156, 0.11846977555181845), (158, 0.11846977555181845), (162, 0.11846977555181845), (195, 0.11846977555181845), (216, 0.11846977555181845), (306, 0.11846977555181845), (366, 0.11846977555181845), (425, 0.11846977555181845), (560, 0.11846977555181845), (710, 0.11846977555181845), (772, 0.11846977555181845), (925, 0.11846977555181845), (518, 0.11547005383792514), (566, 0.11547005383792514), (683, 0.11547005383792514), (749, 0.11547005383792514), (822, 0.11547005383792514), (94, 0.1126872339638022), (408, 0.1126872339638022), (558, 0.1126872339638022), (578, 0.1126872339638022), (680, 0.1126872339638022), (843, 0.1126872339638022), (935, 0.1126872339638022), (244, 0.10540925533894598), (176, 0.10327955589886445), (313, 0.10127393670836665), (7, 0.07453559924999299), (457, 0.07453559924999299), (656, 0.07453559924999299), (933, 0.07453559924999299), (18, 0.07161148740394328), (72, 0.07161148740394328), (258, 0.07161148740394328), (317, 0.07161148740394328), (351, 0.07161148740394328), (360, 0.07161148740394328), (394, 0.07161148740394328), (410, 0.07161148740394328), (421, 0.07161148740394328), (624, 0.07161148740394328), (678, 0.07161148740394328), (804, 0.07161148740394328), (844, 0.07161148740394328), (846, 0.07161148740394328), (942, 0.07161148740394328), (966, 0.07161148740394328), (973, 0.07161148740394328), (998, 0.07161148740394328), (9, 0.06900655593423542), (13, 0.06900655593423542), (49, 0.06900655593423542), (55, 0.06900655593423542), (74, 0.06900655593423542), (89, 0.06900655593423542), (123, 0.06900655593423542), (127, 0.06900655593423542), (134, 0.06900655593423542), (165, 0.06900655593423542), (174, 0.06900655593423542), (194, 0.06900655593423542), (242, 0.06900655593423542), (248, 0.06900655593423542), (293, 0.06900655593423542), (312, 0.06900655593423542), (322, 0.06900655593423542), (330, 0.06900655593423542), (347, 0.06900655593423542), (352, 0.06900655593423542), (363, 0.06900655593423542), (370, 0.06900655593423542), (372, 0.06900655593423542), (375, 0.06900655593423542), (386, 0.06900655593423542), (390, 0.06900655593423542), (407, 0.06900655593423542), (409, 0.06900655593423542), (420, 0.06900655593423542), (442, 0.06900655593423542), (446, 0.06900655593423542), (452, 0.06900655593423542), (464, 0.06900655593423542), (466, 0.06900655593423542), (482, 0.06900655593423542), (492, 0.06900655593423542), (499, 0.06900655593423542), (511, 0.06900655593423542), (515, 0.06900655593423542), (517, 0.06900655593423542), (522, 0.06900655593423542), (524, 0.06900655593423542), (551, 0.06900655593423542), (589, 0.06900655593423542), (623, 0.06900655593423542), (634, 0.06900655593423542), (654, 0.06900655593423542), (666, 0.06900655593423542), (703, 0.06900655593423542), (729, 0.06900655593423542), (750, 0.06900655593423542), (763, 0.06900655593423542), (777, 0.06900655593423542), (828, 0.06900655593423542), (865, 0.06900655593423542), (883, 0.06900655593423542), (968, 0.06900655593423542), (971, 0.06900655593423542), (981, 0.06900655593423542), (984, 0.06900655593423542), (989, 0.06900655593423542), (14, 0.06666666666666665), (17, 0.06666666666666665), (20, 0.06666666666666665), (23, 0.06666666666666665), (36, 0.06666666666666665), (40, 0.06666666666666665), (53, 0.06666666666666665), (69, 0.06666666666666665), (77, 0.06666666666666665), (84, 0.06666666666666665), (117, 0.06666666666666665), (119, 0.06666666666666665), (121, 0.06666666666666665), (147, 0.06666666666666665), (153, 0.06666666666666665), (159, 0.06666666666666665), (161, 0.06666666666666665), (172, 0.06666666666666665), (182, 0.06666666666666665), (213, 0.06666666666666665), (222, 0.06666666666666665), (241, 0.06666666666666665), (274, 0.06666666666666665), (277, 0.06666666666666665), (301, 0.06666666666666665), (319, 0.06666666666666665), (324, 0.06666666666666665), (331, 0.06666666666666665), (334, 0.06666666666666665), (335, 0.06666666666666665), (340, 0.06666666666666665), (341, 0.06666666666666665), (354, 0.06666666666666665), (359, 0.06666666666666665), (391, 0.06666666666666665), (393, 0.06666666666666665), (402, 0.06666666666666665), (403, 0.06666666666666665), (412, 0.06666666666666665), (415, 0.06666666666666665), (453, 0.06666666666666665), (471, 0.06666666666666665), (487, 0.06666666666666665), (493, 0.06666666666666665), (513, 0.06666666666666665), (526, 0.06666666666666665), (536, 0.06666666666666665), (559, 0.06666666666666665), (561, 0.06666666666666665), (580, 0.06666666666666665), (588, 0.06666666666666665), (594, 0.06666666666666665), (618, 0.06666666666666665), (627, 0.06666666666666665), (647, 0.06666666666666665), (663, 0.06666666666666665), (669, 0.06666666666666665), (676, 0.06666666666666665), (688, 0.06666666666666665), (702, 0.06666666666666665), (721, 0.06666666666666665), (726, 0.06666666666666665), (731, 0.06666666666666665), (735, 0.06666666666666665), (743, 0.06666666666666665), (753, 0.06666666666666665), (755, 0.06666666666666665), (766, 0.06666666666666665), (768, 0.06666666666666665), (771, 0.06666666666666665), (780, 0.06666666666666665), (796, 0.06666666666666665), (797, 0.06666666666666665), (808, 0.06666666666666665), (817, 0.06666666666666665), (892, 0.06666666666666665), (895, 0.06666666666666665), (897, 0.06666666666666665), (904, 0.06666666666666665), (923, 0.06666666666666665), (931, 0.06666666666666665), (949, 0.06666666666666665), (958, 0.06666666666666665), (965, 0.06666666666666665), (1, 0.06454972243679027), (54, 0.06454972243679027), (76, 0.06454972243679027), (83, 0.06454972243679027), (95, 0.06454972243679027), (102, 0.06454972243679027), (124, 0.06454972243679027), (125, 0.06454972243679027), (131, 0.06454972243679027), (187, 0.06454972243679027), (199, 0.06454972243679027), (201, 0.06454972243679027), (219, 0.06454972243679027), (221, 0.06454972243679027), (230, 0.06454972243679027), (272, 0.06454972243679027), (276, 0.06454972243679027), (297, 0.06454972243679027), (315, 0.06454972243679027), (323, 0.06454972243679027), (333, 0.06454972243679027), (342, 0.06454972243679027), (349, 0.06454972243679027), (358, 0.06454972243679027), (424, 0.06454972243679027), (427, 0.06454972243679027), (431, 0.06454972243679027), (445, 0.06454972243679027), (527, 0.06454972243679027), (532, 0.06454972243679027), (533, 0.06454972243679027), (542, 0.06454972243679027), (563, 0.06454972243679027), (576, 0.06454972243679027), (596, 0.06454972243679027), (601, 0.06454972243679027), (612, 0.06454972243679027), (615, 0.06454972243679027), (658, 0.06454972243679027), (704, 0.06454972243679027), (725, 0.06454972243679027), (737, 0.06454972243679027), (775, 0.06454972243679027), (781, 0.06454972243679027), (794, 0.06454972243679027), (814, 0.06454972243679027), (872, 0.06454972243679027), (886, 0.06454972243679027), (912, 0.06454972243679027), (954, 0.06454972243679027), (974, 0.06454972243679027), (15, 0.06262242910851494), (96, 0.06262242910851494), (105, 0.06262242910851494), (151, 0.06262242910851494), (154, 0.06262242910851494), (197, 0.06262242910851494), (238, 0.06262242910851494), (286, 0.06262242910851494), (296, 0.06262242910851494), (304, 0.06262242910851494), (336, 0.06262242910851494), (378, 0.06262242910851494), (525, 0.06262242910851494), (690, 0.06262242910851494), (701, 0.06262242910851494), (711, 0.06262242910851494), (712, 0.06262242910851494), (732, 0.06262242910851494), (741, 0.06262242910851494), (792, 0.06262242910851494), (798, 0.06262242910851494), (799, 0.06262242910851494), (938, 0.06262242910851494), (967, 0.06262242910851494), (982, 0.06262242910851494), (155, 0.06085806194501846), (171, 0.06085806194501846), (290, 0.06085806194501846), (395, 0.06085806194501846), (438, 0.06085806194501846), (447, 0.06085806194501846), (535, 0.06085806194501846), (617, 0.06085806194501846), (667, 0.06085806194501846), (674, 0.06085806194501846), (708, 0.06085806194501846), (773, 0.06085806194501846), (831, 0.06085806194501846), (837, 0.06085806194501846), (868, 0.06085806194501846), (894, 0.06085806194501846), (915, 0.06085806194501846), (918, 0.06085806194501846), (34, 0.059234887775909226), (110, 0.059234887775909226), (120, 0.059234887775909226), (122, 0.059234887775909226), (177, 0.059234887775909226), (429, 0.059234887775909226), (434, 0.059234887775909226), (809, 0.059234887775909226), (893, 0.059234887775909226), (921, 0.059234887775909226), (952, 0.059234887775909226), (299, 0.05773502691896257), (422, 0.05773502691896257), (426, 0.05773502691896257), (500, 0.05773502691896257), (583, 0.05773502691896257), (910, 0.05773502691896257), (953, 0.05773502691896257), (223, 0.0563436169819011), (510, 0.0563436169819011), (679, 0.0563436169819011), (803, 0.0563436169819011), (308, 0.053838190205816545), (619, 0.053838190205816545), (380, 0.05270462766947299), (629, 0.05270462766947299), (257, 0.051639777949432225), (2, 0.0), (3, 0.0), (6, 0.0), (11, 0.0), (16, 0.0), (19, 0.0), (21, 0.0), (22, 0.0), (25, 0.0), (27, 0.0), (28, 0.0), (30, 0.0), (31, 0.0), (39, 0.0), (41, 0.0), (42, 0.0), (43, 0.0), (44, 0.0), (46, 0.0), (52, 0.0), (56, 0.0), (57, 0.0), (58, 0.0), (59, 0.0), (61, 0.0), (62, 0.0), (63, 0.0), (64, 0.0), (66, 0.0), (68, 0.0), (70, 0.0), (81, 0.0), (86, 0.0), (88, 0.0), (93, 0.0), (97, 0.0), (98, 0.0), (99, 0.0), (100, 0.0), (103, 0.0), (106, 0.0), (108, 0.0), (109, 0.0), (111, 0.0), (112, 0.0), (115, 0.0), (116, 0.0), (118, 0.0), (128, 0.0), (132, 0.0), (133, 0.0), (135, 0.0), (136, 0.0), (137, 0.0), (138, 0.0), (139, 0.0), (141, 0.0), (142, 0.0), (143, 0.0), (144, 0.0), (145, 0.0), (146, 0.0), (148, 0.0), (152, 0.0), (157, 0.0), (160, 0.0), (167, 0.0), (170, 0.0), (173, 0.0), (178, 0.0), (180, 0.0), (181, 0.0), (183, 0.0), (184, 0.0), (185, 0.0), (186, 0.0), (188, 0.0), (189, 0.0), (190, 0.0), (191, 0.0), (192, 0.0), (193, 0.0), (196, 0.0), (198, 0.0), (202, 0.0), (206, 0.0), (207, 0.0), (208, 0.0), (209, 0.0), (211, 0.0), (218, 0.0), (224, 0.0), (225, 0.0), (226, 0.0), (229, 0.0), (231, 0.0), (235, 0.0), (236, 0.0), (237, 0.0), (245, 0.0), (246, 0.0), (247, 0.0), (249, 0.0), (250, 0.0), (251, 0.0), (252, 0.0), (254, 0.0), (255, 0.0), (259, 0.0), (260, 0.0), (261, 0.0), (262, 0.0), (263, 0.0), (265, 0.0), (266, 0.0), (267, 0.0), (269, 0.0), (273, 0.0), (278, 0.0), (280, 0.0), (282, 0.0), (283, 0.0), (289, 0.0), (291, 0.0), (292, 0.0), (295, 0.0), (298, 0.0), (302, 0.0), (303, 0.0), (305, 0.0), (307, 0.0), (309, 0.0), (310, 0.0), (311, 0.0), (318, 0.0), (320, 0.0), (321, 0.0), (326, 0.0), (327, 0.0), (328, 0.0), (337, 0.0), (338, 0.0), (339, 0.0), (348, 0.0), (350, 0.0), (353, 0.0), (356, 0.0), (357, 0.0), (361, 0.0), (364, 0.0), (365, 0.0), (367, 0.0), (374, 0.0), (376, 0.0), (377, 0.0), (381, 0.0), (382, 0.0), (383, 0.0), (392, 0.0), (397, 0.0), (398, 0.0), (399, 0.0), (401, 0.0), (404, 0.0), (405, 0.0), (406, 0.0), (411, 0.0), (413, 0.0), (416, 0.0), (417, 0.0), (419, 0.0), (428, 0.0), (430, 0.0), (435, 0.0), (436, 0.0), (437, 0.0), (439, 0.0), (441, 0.0), (443, 0.0), (444, 0.0), (449, 0.0), (451, 0.0), (455, 0.0), (456, 0.0), (458, 0.0), (459, 0.0), (460, 0.0), (461, 0.0), (462, 0.0), (463, 0.0), (467, 0.0), (470, 0.0), (474, 0.0), (475, 0.0), (476, 0.0), (477, 0.0), (478, 0.0), (479, 0.0), (480, 0.0), (481, 0.0), (483, 0.0), (486, 0.0), (489, 0.0), (490, 0.0), (494, 0.0), (497, 0.0), (498, 0.0), (501, 0.0), (502, 0.0), (503, 0.0), (505, 0.0), (506, 0.0), (507, 0.0), (508, 0.0), (509, 0.0), (512, 0.0), (514, 0.0), (519, 0.0), (520, 0.0), (521, 0.0), (530, 0.0), (531, 0.0), (534, 0.0), (538, 0.0), (539, 0.0), (540, 0.0), (541, 0.0), (543, 0.0), (544, 0.0), (545, 0.0), (546, 0.0), (548, 0.0), (549, 0.0), (550, 0.0), (553, 0.0), (554, 0.0), (555, 0.0), (556, 0.0), (562, 0.0), (567, 0.0), (568, 0.0), (569, 0.0), (570, 0.0), (571, 0.0), (572, 0.0), (573, 0.0), (574, 0.0), (579, 0.0), (582, 0.0), (584, 0.0), (586, 0.0), (590, 0.0), (591, 0.0), (592, 0.0), (593, 0.0), (595, 0.0), (598, 0.0), (602, 0.0), (604, 0.0), (605, 0.0), (606, 0.0), (607, 0.0), (608, 0.0), (611, 0.0), (613, 0.0), (614, 0.0), (616, 0.0), (620, 0.0), (622, 0.0), (628, 0.0), (630, 0.0), (631, 0.0), (632, 0.0), (633, 0.0), (635, 0.0), (636, 0.0), (637, 0.0), (638, 0.0), (639, 0.0), (641, 0.0), (642, 0.0), (643, 0.0), (644, 0.0), (645, 0.0), (646, 0.0), (648, 0.0), (650, 0.0), (651, 0.0), (652, 0.0), (653, 0.0), (655, 0.0), (659, 0.0), (661, 0.0), (662, 0.0), (664, 0.0), (665, 0.0), (668, 0.0), (670, 0.0), (671, 0.0), (672, 0.0), (675, 0.0), (677, 0.0), (681, 0.0), (682, 0.0), (685, 0.0), (686, 0.0), (689, 0.0), (691, 0.0), (692, 0.0), (695, 0.0), (696, 0.0), (697, 0.0), (699, 0.0), (700, 0.0), (705, 0.0), (706, 0.0), (707, 0.0), (709, 0.0), (713, 0.0), (714, 0.0), (715, 0.0), (716, 0.0), (717, 0.0), (719, 0.0), (720, 0.0), (722, 0.0), (723, 0.0), (727, 0.0), (730, 0.0), (733, 0.0), (734, 0.0), (736, 0.0), (738, 0.0), (740, 0.0), (742, 0.0), (744, 0.0), (745, 0.0), (746, 0.0), (747, 0.0), (748, 0.0), (751, 0.0), (752, 0.0), (754, 0.0), (756, 0.0), (757, 0.0), (760, 0.0), (761, 0.0), (762, 0.0), (764, 0.0), (765, 0.0), (769, 0.0), (774, 0.0), (776, 0.0), (778, 0.0), (779, 0.0), (782, 0.0), (783, 0.0), (784, 0.0), (785, 0.0), (786, 0.0), (788, 0.0), (790, 0.0), (791, 0.0), (793, 0.0), (795, 0.0), (801, 0.0), (805, 0.0), (807, 0.0), (811, 0.0), (812, 0.0), (813, 0.0), (815, 0.0), (816, 0.0), (818, 0.0), (819, 0.0), (823, 0.0), (824, 0.0), (825, 0.0), (826, 0.0), (829, 0.0), (830, 0.0), (832, 0.0), (834, 0.0), (835, 0.0), (836, 0.0), (838, 0.0), (839, 0.0), (840, 0.0), (841, 0.0), (842, 0.0), (845, 0.0), (847, 0.0), (848, 0.0), (849, 0.0), (850, 0.0), (851, 0.0), (852, 0.0), (853, 0.0), (855, 0.0), (857, 0.0), (858, 0.0), (859, 0.0), (860, 0.0), (861, 0.0), (862, 0.0), (863, 0.0), (864, 0.0), (866, 0.0), (867, 0.0), (870, 0.0), (873, 0.0), (874, 0.0), (875, 0.0), (876, 0.0), (877, 0.0), (881, 0.0), (882, 0.0), (884, 0.0), (885, 0.0), (887, 0.0), (888, 0.0), (889, 0.0), (890, 0.0), (891, 0.0), (898, 0.0), (899, 0.0), (900, 0.0), (902, 0.0), (905, 0.0), (906, 0.0), (907, 0.0), (908, 0.0), (909, 0.0), (911, 0.0), (913, 0.0), (914, 0.0), (917, 0.0), (922, 0.0), (926, 0.0), (927, 0.0), (928, 0.0), (929, 0.0), (930, 0.0), (932, 0.0), (934, 0.0), (936, 0.0), (937, 0.0), (939, 0.0), (940, 0.0), (943, 0.0), (946, 0.0), (947, 0.0), (950, 0.0), (951, 0.0), (955, 0.0), (959, 0.0), (960, 0.0), (961, 0.0), (962, 0.0), (963, 0.0), (970, 0.0), (972, 0.0), (975, 0.0), (976, 0.0), (977, 0.0), (978, 0.0), (979, 0.0), (980, 0.0), (983, 0.0), (986, 0.0), (987, 0.0), (988, 0.0), (991, 0.0), (992, 0.0), (994, 0.0), (995, 0.0), (996, 0.0), (997, 0.0)]\n"
          ]
        }
      ]
    },
    {
      "cell_type": "code",
      "source": [
        "j = 0\n",
        "print(\"Top 7 recommendations for \" , title , \" are: \")\n",
        "for item in sorted_scores:\n",
        "  movie_title = movies[movies.Rank == item[0]]['Title'].values[0]\n",
        "  print(j+1, \" \", movie_title, ' with' , round(item[1], 2)*100 , \"% score\" )\n",
        "  j = j + 1\n",
        "  if j > 6:\n",
        "    break"
      ],
      "metadata": {
        "colab": {
          "base_uri": "https://localhost:8080/"
        },
        "id": "OQn8bn-CXJjR",
        "outputId": "511a2b19-ddef-49c0-9193-16d5b460c6eb"
      },
      "execution_count": 110,
      "outputs": [
        {
          "output_type": "stream",
          "name": "stdout",
          "text": [
            "Top 7 recommendations for  Sing  are: \n",
            "1   King Cobra  with 37.0 % score\n",
            "2   Safe Haven  with 28.000000000000004 % score\n",
            "3   I Am Legend  with 25.0 % score\n",
            "4   Bridge of Spies  with 24.0 % score\n",
            "5   A Monster Calls  with 21.0 % score\n",
            "6   Live by Night  with 21.0 % score\n",
            "7   Prisoners  with 21.0 % score\n"
          ]
        }
      ]
    },
    {
      "cell_type": "code",
      "source": [],
      "metadata": {
        "id": "lBO7_muvXgNg"
      },
      "execution_count": 110,
      "outputs": []
    }
  ]
}